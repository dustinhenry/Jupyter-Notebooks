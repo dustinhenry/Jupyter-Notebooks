{
 "cells": [
  {
   "cell_type": "markdown",
   "id": "f30fb1d8",
   "metadata": {},
   "source": [
    "<h1><u>Calculus I with Python</u></h1>\n",
    "<h3>1. Limits: Hole in the Graph</h3>"
   ]
  },
  {
   "cell_type": "markdown",
   "id": "c82defde",
   "metadata": {},
   "source": [
    "$ \\lim_{x \\to 2} f(x) = \\frac{3(x-2)}{x-2} $\n",
    "\n",
    "$ \\lim_{x \\to 2^+} f(x+h) = \\frac{3((x+h)-2)}{((x+h)-2)};  h=0.00001 $\n",
    "\n",
    "$ \\lim_{x \\to 2^-} f(x-h) = \\frac{3((x-h)-2)}{((x-h)-2)};  h=0.00001 $"
   ]
  },
  {
   "cell_type": "code",
   "execution_count": 2,
   "id": "f0e6a7b0",
   "metadata": {},
   "outputs": [
    {
     "name": "stdout",
     "output_type": "stream",
     "text": [
      "y_right = 3.0\n",
      "y_left = 3.0\n",
      "The limit exists at x = 2\n"
     ]
    }
   ],
   "source": [
    "x = 2\n",
    "h = 0.00001\n",
    "\n",
    "y_right = (3*((x+h)-2))/((x+h)-2)\n",
    "y_left = (3*((x-h)-2))/((x-h)-2)\n",
    "\n",
    "print(f\"y_right = {y_right}\")\n",
    "print(f\"y_left = {y_left}\")\n",
    "\n",
    "if round(y_right) != round(y_left):\n",
    "    print(f\"The limit does not exist at x = {x}\")\n",
    "else:\n",
    "    print(f\"The limit exists at x = {x}\")"
   ]
  },
  {
   "cell_type": "markdown",
   "id": "6a89cc04",
   "metadata": {},
   "source": [
    "### 2. Asymptotes"
   ]
  },
  {
   "cell_type": "markdown",
   "id": "a1a998d7",
   "metadata": {},
   "source": [
    "$ f(x)=\\frac{3x^2}{x^2-4} $"
   ]
  },
  {
   "cell_type": "markdown",
   "id": "664c7283",
   "metadata": {},
   "source": [
    "Where is the function undefined?"
   ]
  },
  {
   "cell_type": "code",
   "execution_count": 3,
   "id": "cbda5ef4",
   "metadata": {},
   "outputs": [
    {
     "name": "stdout",
     "output_type": "stream",
     "text": [
      "x =  [-2, 2]\n"
     ]
    }
   ],
   "source": [
    "import sympy\n",
    "from sympy import symbols\n",
    "from sympy.solvers import solve\n",
    "\n",
    "x = symbols('x')\n",
    "\n",
    "eq = x**2 - 4\n",
    "\n",
    "print(\"x = \", solve(eq, x))"
   ]
  }
 ],
 "metadata": {
  "kernelspec": {
   "display_name": ".venv",
   "language": "python",
   "name": "python3"
  },
  "language_info": {
   "codemirror_mode": {
    "name": "ipython",
    "version": 3
   },
   "file_extension": ".py",
   "mimetype": "text/x-python",
   "name": "python",
   "nbconvert_exporter": "python",
   "pygments_lexer": "ipython3",
   "version": "3.13.5"
  }
 },
 "nbformat": 4,
 "nbformat_minor": 5
}
