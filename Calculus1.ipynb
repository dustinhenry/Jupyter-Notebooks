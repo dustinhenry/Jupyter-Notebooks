{
 "cells": [
  {
   "cell_type": "markdown",
   "id": "f30fb1d8",
   "metadata": {},
   "source": [
    "<center><h1><u>Calculus with Python</u></h1><center>"
   ]
  },
  {
   "cell_type": "markdown",
   "id": "90bf15be",
   "metadata": {},
   "source": [
    "### Limits: Hole in the Graph"
   ]
  },
  {
   "cell_type": "markdown",
   "id": "c82defde",
   "metadata": {},
   "source": [
    "$ y = 3(x-2)/(x-2) $"
   ]
  },
  {
   "cell_type": "code",
   "execution_count": null,
   "id": "f0e6a7b0",
   "metadata": {},
   "outputs": [
    {
     "name": "stdout",
     "output_type": "stream",
     "text": [
      "Hello, world!\n"
     ]
    }
   ],
   "source": [
    "x = 2\n",
    "h = 0.00001\n",
    "\n",
    "y_right = (3*((x+h)-2))/((x+h)-2)\n",
    "y_left = (3*((x-h)-2))/((x-h)-2)\n",
    "\n",
    "print()"
   ]
  }
 ],
 "metadata": {
  "kernelspec": {
   "display_name": ".venv",
   "language": "python",
   "name": "python3"
  },
  "language_info": {
   "codemirror_mode": {
    "name": "ipython",
    "version": 3
   },
   "file_extension": ".py",
   "mimetype": "text/x-python",
   "name": "python",
   "nbconvert_exporter": "python",
   "pygments_lexer": "ipython3",
   "version": "3.13.5"
  }
 },
 "nbformat": 4,
 "nbformat_minor": 5
}
